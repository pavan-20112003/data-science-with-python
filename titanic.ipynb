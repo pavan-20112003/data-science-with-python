{
 "cells": [
  {
   "cell_type": "code",
   "execution_count": 76,
   "id": "6f3cba41",
   "metadata": {},
   "outputs": [],
   "source": [
    "import pandas as pd\n",
    "import numpy as np\n",
    "from sklearn.model_selection import train_test_split      \n",
    "from sklearn.metrics import accuracy_score\n",
    "from sklearn.linear_model import LogisticRegression\n",
    "from sklearn.preprocessing import LabelEncoder"
   ]
  },
  {
   "cell_type": "code",
   "execution_count": 77,
   "id": "d7dc3054",
   "metadata": {},
   "outputs": [
    {
     "name": "stdout",
     "output_type": "stream",
     "text": [
      "   Survived     Sex  Age  Pclass     Fare\n",
      "0         1  female   22       1  71.2833\n",
      "1         0    male   35       2   8.0500\n",
      "2         1  female   18       3   7.8542\n",
      "3         0    male   40       1  53.1000\n",
      "4         0    male   28       3   8.4583\n"
     ]
    }
   ],
   "source": [
    "#importing the data\n",
    "k=pd.read_csv(r\"C:\\Users\\kalyana raghava\\Desktop\\titanic.csv\")\n",
    "print(k)"
   ]
  },
  {
   "cell_type": "code",
   "execution_count": 78,
   "id": "30836d37",
   "metadata": {},
   "outputs": [
    {
     "data": {
      "text/plain": [
       "Survived      int64\n",
       "Sex          object\n",
       "Age           int64\n",
       "Pclass        int64\n",
       "Fare        float64\n",
       "dtype: object"
      ]
     },
     "execution_count": 78,
     "metadata": {},
     "output_type": "execute_result"
    }
   ],
   "source": [
    "k.dtypes"
   ]
  },
  {
   "cell_type": "code",
   "execution_count": 79,
   "id": "76bfc389",
   "metadata": {},
   "outputs": [
    {
     "name": "stdout",
     "output_type": "stream",
     "text": [
      "<class 'pandas.core.frame.DataFrame'>\n",
      "RangeIndex: 5 entries, 0 to 4\n",
      "Data columns (total 5 columns):\n",
      " #   Column    Non-Null Count  Dtype  \n",
      "---  ------    --------------  -----  \n",
      " 0   Survived  5 non-null      int64  \n",
      " 1   Sex       5 non-null      object \n",
      " 2   Age       5 non-null      int64  \n",
      " 3   Pclass    5 non-null      int64  \n",
      " 4   Fare      5 non-null      float64\n",
      "dtypes: float64(1), int64(3), object(1)\n",
      "memory usage: 328.0+ bytes\n"
     ]
    }
   ],
   "source": [
    "k.info()"
   ]
  },
  {
   "cell_type": "code",
   "execution_count": 80,
   "id": "1463a8f2",
   "metadata": {},
   "outputs": [
    {
     "data": {
      "text/plain": [
       "(5, 5)"
      ]
     },
     "execution_count": 80,
     "metadata": {},
     "output_type": "execute_result"
    }
   ],
   "source": [
    "k.shape"
   ]
  },
  {
   "cell_type": "code",
   "execution_count": 81,
   "id": "f4c2db16",
   "metadata": {},
   "outputs": [
    {
     "data": {
      "text/html": [
       "<div>\n",
       "<style scoped>\n",
       "    .dataframe tbody tr th:only-of-type {\n",
       "        vertical-align: middle;\n",
       "    }\n",
       "\n",
       "    .dataframe tbody tr th {\n",
       "        vertical-align: top;\n",
       "    }\n",
       "\n",
       "    .dataframe thead th {\n",
       "        text-align: right;\n",
       "    }\n",
       "</style>\n",
       "<table border=\"1\" class=\"dataframe\">\n",
       "  <thead>\n",
       "    <tr style=\"text-align: right;\">\n",
       "      <th></th>\n",
       "      <th>Survived</th>\n",
       "      <th>Sex</th>\n",
       "      <th>Age</th>\n",
       "      <th>Pclass</th>\n",
       "      <th>Fare</th>\n",
       "    </tr>\n",
       "  </thead>\n",
       "  <tbody>\n",
       "    <tr>\n",
       "      <th>0</th>\n",
       "      <td>False</td>\n",
       "      <td>False</td>\n",
       "      <td>False</td>\n",
       "      <td>False</td>\n",
       "      <td>False</td>\n",
       "    </tr>\n",
       "    <tr>\n",
       "      <th>1</th>\n",
       "      <td>False</td>\n",
       "      <td>False</td>\n",
       "      <td>False</td>\n",
       "      <td>False</td>\n",
       "      <td>False</td>\n",
       "    </tr>\n",
       "    <tr>\n",
       "      <th>2</th>\n",
       "      <td>False</td>\n",
       "      <td>False</td>\n",
       "      <td>False</td>\n",
       "      <td>False</td>\n",
       "      <td>False</td>\n",
       "    </tr>\n",
       "    <tr>\n",
       "      <th>3</th>\n",
       "      <td>False</td>\n",
       "      <td>False</td>\n",
       "      <td>False</td>\n",
       "      <td>False</td>\n",
       "      <td>False</td>\n",
       "    </tr>\n",
       "    <tr>\n",
       "      <th>4</th>\n",
       "      <td>False</td>\n",
       "      <td>False</td>\n",
       "      <td>False</td>\n",
       "      <td>False</td>\n",
       "      <td>False</td>\n",
       "    </tr>\n",
       "  </tbody>\n",
       "</table>\n",
       "</div>"
      ],
      "text/plain": [
       "   Survived    Sex    Age  Pclass   Fare\n",
       "0     False  False  False   False  False\n",
       "1     False  False  False   False  False\n",
       "2     False  False  False   False  False\n",
       "3     False  False  False   False  False\n",
       "4     False  False  False   False  False"
      ]
     },
     "execution_count": 81,
     "metadata": {},
     "output_type": "execute_result"
    }
   ],
   "source": [
    "k.isnull()"
   ]
  },
  {
   "cell_type": "code",
   "execution_count": 82,
   "id": "dc0f8292",
   "metadata": {},
   "outputs": [
    {
     "name": "stdout",
     "output_type": "stream",
     "text": [
      "   Survived     Sex  Age  Pclass     Fare\n",
      "0         1  female   22       1  71.2833\n",
      "1         0    male   35       2   8.0500\n",
      "2         1  female   18       3   7.8542\n",
      "3         0    male   40       1  53.1000\n",
      "4         0    male   28       3   8.4583\n"
     ]
    }
   ],
   "source": [
    "#hence data has not nan values\n",
    "k=k.dropna()\n",
    "print(k)"
   ]
  },
  {
   "cell_type": "code",
   "execution_count": 83,
   "id": "8fa12dd7",
   "metadata": {},
   "outputs": [],
   "source": [
    "#split the data into two parts selected attributes are stored inx and \n",
    "#target attributes are storesd in y\n",
    "#based upon above data survived used as test\n",
    "#reamined used as train"
   ]
  },
  {
   "cell_type": "code",
   "execution_count": 84,
   "id": "aea768fb",
   "metadata": {},
   "outputs": [],
   "source": [
    "#before split convert sex into integer data type\n",
    "label_encoder=LabelEncoder()\n",
    "k['Sex']=label_encoder.fit_transform(k['Sex'])"
   ]
  },
  {
   "cell_type": "code",
   "execution_count": 85,
   "id": "7438ae72",
   "metadata": {},
   "outputs": [
    {
     "name": "stdout",
     "output_type": "stream",
     "text": [
      "<class 'pandas.core.frame.DataFrame'>\n",
      "RangeIndex: 5 entries, 0 to 4\n",
      "Data columns (total 5 columns):\n",
      " #   Column    Non-Null Count  Dtype  \n",
      "---  ------    --------------  -----  \n",
      " 0   Survived  5 non-null      int64  \n",
      " 1   Sex       5 non-null      int32  \n",
      " 2   Age       5 non-null      int64  \n",
      " 3   Pclass    5 non-null      int64  \n",
      " 4   Fare      5 non-null      float64\n",
      "dtypes: float64(1), int32(1), int64(3)\n",
      "memory usage: 308.0 bytes\n"
     ]
    }
   ],
   "source": [
    "k.info()"
   ]
  },
  {
   "cell_type": "code",
   "execution_count": 86,
   "id": "486450dc",
   "metadata": {},
   "outputs": [
    {
     "name": "stdout",
     "output_type": "stream",
     "text": [
      "   Sex  Age  Pclass     Fare\n",
      "0    0   22       1  71.2833\n",
      "1    1   35       2   8.0500\n",
      "2    0   18       3   7.8542\n",
      "3    1   40       1  53.1000\n",
      "4    1   28       3   8.4583\n"
     ]
    }
   ],
   "source": [
    "x=k.drop('Survived',axis=1)        #except survived we have take selected attributes that means remaing\n",
    "print(x)"
   ]
  },
  {
   "cell_type": "code",
   "execution_count": 87,
   "id": "8fcde7d3",
   "metadata": {},
   "outputs": [
    {
     "name": "stdout",
     "output_type": "stream",
     "text": [
      "0    1\n",
      "1    0\n",
      "2    1\n",
      "3    0\n",
      "4    0\n",
      "Name: Survived, dtype: int64\n"
     ]
    }
   ],
   "source": [
    "y=k['Survived']\n",
    "print(y)                     #we have take only survived attribute only"
   ]
  },
  {
   "cell_type": "code",
   "execution_count": 88,
   "id": "09245bc5",
   "metadata": {},
   "outputs": [
    {
     "name": "stdout",
     "output_type": "stream",
     "text": [
      "   Sex  Age  Pclass     Fare\n",
      "0    0   22       1  71.2833\n",
      "1    1   35       2   8.0500\n",
      "2    0   18       3   7.8542\n",
      "3    1   40       1  53.1000\n",
      "4    1   28       3   8.4583\n",
      "after spliting data     Sex  Age  Pclass  Fare\n",
      "1    1   35       2  8.05\n",
      "after spliting data     Sex  Age  Pclass     Fare\n",
      "4    1   28       3   8.4583\n",
      "2    0   18       3   7.8542\n",
      "0    0   22       1  71.2833\n",
      "3    1   40       1  53.1000\n",
      "(5, 4)\n",
      "(1, 4)\n",
      "(4, 4)\n"
     ]
    }
   ],
   "source": [
    "x_train,x_test,y_train,y_test=train_test_split(x,y,test_size=0.2,random_state=42)  #only 20% test tremaing train\n",
    "print(x)           #it contain 5 rows 4 columsns\n",
    "print(\"after spliting data \",x_test)      #after spliting data it contain 1 rows 4column\n",
    "print(\"after spliting data \",x_train)     #after spliting data it contains 4 rows  4 colums   \n",
    "print(x.shape)\n",
    "print(x_test.shape)\n",
    "print(x_train.shape)"
   ]
  },
  {
   "cell_type": "code",
   "execution_count": 89,
   "id": "e43e7da1",
   "metadata": {},
   "outputs": [
    {
     "name": "stdout",
     "output_type": "stream",
     "text": [
      "0    1\n",
      "1    0\n",
      "2    1\n",
      "3    0\n",
      "4    0\n",
      "Name: Survived, dtype: int64\n",
      "y train is 4    0\n",
      "2    1\n",
      "0    1\n",
      "3    0\n",
      "Name: Survived, dtype: int64\n",
      "ytest is  1    0\n",
      "Name: Survived, dtype: int64\n",
      "(5,)\n",
      "(4,)\n",
      "(1,)\n"
     ]
    }
   ],
   "source": [
    "print(y)\n",
    "print(\"y train is\",y_train)\n",
    "print(\"ytest is \",y_test)\n",
    "print(y.shape)\n",
    "print(y_train.shape)\n",
    "print(y_test.shape)"
   ]
  },
  {
   "cell_type": "code",
   "execution_count": 91,
   "id": "eab25057",
   "metadata": {},
   "outputs": [
    {
     "data": {
      "text/plain": [
       "LogisticRegression()"
      ]
     },
     "execution_count": 91,
     "metadata": {},
     "output_type": "execute_result"
    }
   ],
   "source": [
    "# now we predict accuracy before predict we have to create a  model\n",
    "model=LogisticRegression()\n",
    "model.fit(x_train,y_train)"
   ]
  },
  {
   "cell_type": "code",
   "execution_count": 92,
   "id": "ab72902d",
   "metadata": {},
   "outputs": [
    {
     "name": "stdout",
     "output_type": "stream",
     "text": [
      "[0]\n"
     ]
    }
   ],
   "source": [
    "y_pred=model.predict(x_test)\n",
    "print(y_pred)"
   ]
  },
  {
   "cell_type": "raw",
   "id": "6bfaff6d",
   "metadata": {},
   "source": [
    "# FINDING ACCURACY"
   ]
  },
  {
   "cell_type": "code",
   "execution_count": 93,
   "id": "0b3a2b4d",
   "metadata": {},
   "outputs": [
    {
     "name": "stdout",
     "output_type": "stream",
     "text": [
      "after prediction the accuracy is 1.0\n"
     ]
    }
   ],
   "source": [
    "accuracy=accuracy_score(y_pred,y_test)\n",
    "print(\"after prediction the accuracy is\",accuracy)"
   ]
  },
  {
   "cell_type": "code",
   "execution_count": 94,
   "id": "db841375",
   "metadata": {},
   "outputs": [
    {
     "name": "stdout",
     "output_type": "stream",
     "text": [
      "the person is predicticted saved from sinking\n"
     ]
    },
    {
     "name": "stderr",
     "output_type": "stream",
     "text": [
      "C:\\Users\\kalyana raghava\\anaconda3\\lib\\site-packages\\sklearn\\base.py:450: UserWarning: X does not have valid feature names, but LogisticRegression was fitted with feature names\n",
      "  warnings.warn(\n"
     ]
    }
   ],
   "source": [
    "#samaple predictiion\n",
    "kh=np.array([[0,1,25,1]])\n",
    "y2=model.predict(kh)\n",
    "if y2[0]==1:\n",
    "    print(\"the person is predicticted saved from sinking\")\n",
    "else:\n",
    "    print(\"the person is not been predicted from sinking\")"
   ]
  },
  {
   "cell_type": "code",
   "execution_count": null,
   "id": "81582fea",
   "metadata": {},
   "outputs": [],
   "source": []
  },
  {
   "cell_type": "code",
   "execution_count": null,
   "id": "c7e4270f",
   "metadata": {},
   "outputs": [],
   "source": []
  },
  {
   "cell_type": "code",
   "execution_count": null,
   "id": "1525a869",
   "metadata": {},
   "outputs": [],
   "source": []
  }
 ],
 "metadata": {
  "kernelspec": {
   "display_name": "Python 3 (ipykernel)",
   "language": "python",
   "name": "python3"
  },
  "language_info": {
   "codemirror_mode": {
    "name": "ipython",
    "version": 3
   },
   "file_extension": ".py",
   "mimetype": "text/x-python",
   "name": "python",
   "nbconvert_exporter": "python",
   "pygments_lexer": "ipython3",
   "version": "3.9.13"
  }
 },
 "nbformat": 4,
 "nbformat_minor": 5
}
